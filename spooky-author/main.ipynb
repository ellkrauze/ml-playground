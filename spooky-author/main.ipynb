{
 "cells": [
  {
   "metadata": {},
   "cell_type": "markdown",
   "source": [
    "# Spooky Author Identification (NLP)\n",
    "https://www.kaggle.com/competitions/spooky-author-identification\n",
    "\n",
    "Getting started tutorial: https://www.kaggle.com/code/rtatman/beginner-s-tutorial-python\n",
    "The main goal is to use machine learning to predict the author of excerpts from horror stories by Edgar Allan Poe, Mary Shelley, and HP Lovecraft.\n",
    "\n",
    "## Dataset\n",
    "\n",
    "The competition dataset contains text from works of fiction written by spooky authors of the public domain: Edgar Allan Poe, HP Lovecraft and Mary Shelley. The data was prepared by chunking larger texts into sentences using CoreNLP's MaxEnt sentence tokenizer, so you may notice the odd non-sentence here and there. Your objective is to accurately identify the author of the sentences in the test set.\n",
    "\n",
    "### File descriptions\n",
    "- `train.csv`- the training set\n",
    "- `test.csv` - the test set\n",
    "- `sample_submission.csv` - a sample submission file in the correct format\n",
    "\n",
    "### Data fields\n",
    "- `id` - a unique identifier for each sentence\n",
    "- `text` - some text written by one of the authors\n",
    "- `author` - the author of the sentence (EAP: Edgar Allan Poe, HPL: HP Lovecraft; MWS: Mary Wollstonecraft Shelley)\n"
   ],
   "id": "95ce1ab3ea40b3d8"
  },
  {
   "cell_type": "code",
   "id": "initial_id",
   "metadata": {
    "collapsed": true,
    "ExecuteTime": {
     "end_time": "2024-11-17T10:08:47.954659Z",
     "start_time": "2024-11-17T10:08:47.932572Z"
    }
   },
   "source": [
    "import nltk\n",
    "import pandas as pd\n",
    "import numpy as np\n",
    "\n",
    "nltk.download('punkt_tab')\n",
    "\n",
    "import spacy\n",
    "\n",
    "from multiprocessing import cpu_count\n",
    "from sklearn.base import TransformerMixin\n",
    "from sklearn.feature_extraction.text import CountVectorizer\n",
    "from sklearn.linear_model import LogisticRegression\n",
    "from sklearn import metrics\n",
    "from sklearn.model_selection import StratifiedKFold\n",
    "from sklearn.naive_bayes import MultinomialNB\n",
    "from sklearn.pipeline import Pipeline\n",
    "from spacy import attrs\n",
    "from spacy.symbols import VERB, NOUN, ADV, ADJ\n",
    "\n",
    "import matplotlib.pyplot as plt"
   ],
   "outputs": [
    {
     "name": "stderr",
     "output_type": "stream",
     "text": [
      "[nltk_data] Downloading package punkt_tab to\n",
      "[nltk_data]     /Users/ellkrauze/nltk_data...\n",
      "[nltk_data]   Package punkt_tab is already up-to-date!\n"
     ]
    }
   ],
   "execution_count": 25
  },
  {
   "metadata": {
    "ExecuteTime": {
     "end_time": "2024-11-17T09:55:07.781124Z",
     "start_time": "2024-11-17T09:55:07.779050Z"
    }
   },
   "cell_type": "code",
   "source": [
    "# Download data from competition's page\n",
    "# https://www.kaggle.com/competitions/spooky-author-identification/data\n",
    "# ! unzip data/train.zip && unzip data/test.zip "
   ],
   "id": "c4a12630e346b46c",
   "outputs": [],
   "execution_count": 2
  },
  {
   "metadata": {
    "ExecuteTime": {
     "end_time": "2024-11-17T09:55:07.880272Z",
     "start_time": "2024-11-17T09:55:07.804726Z"
    }
   },
   "cell_type": "code",
   "source": [
    "train_df = pd.read_csv('train.csv')\n",
    "test_df = pd.read_csv('test.csv')\n",
    "\n",
    "TEXT_COLUMN = 'text'\n",
    "Y_COLUMN = 'author'"
   ],
   "id": "b247f79b9805f809",
   "outputs": [],
   "execution_count": 3
  },
  {
   "metadata": {
    "ExecuteTime": {
     "end_time": "2024-11-17T09:55:08.048639Z",
     "start_time": "2024-11-17T09:55:08.041408Z"
    }
   },
   "cell_type": "code",
   "source": "train_df.head()",
   "id": "4150ebc9ea2ffada",
   "outputs": [
    {
     "data": {
      "text/plain": [
       "        id                                               text author\n",
       "0  id26305  This process, however, afforded me no means of...    EAP\n",
       "1  id17569  It never once occurred to me that the fumbling...    HPL\n",
       "2  id11008  In his left hand was a gold snuff box, from wh...    EAP\n",
       "3  id27763  How lovely is spring As we looked from Windsor...    MWS\n",
       "4  id12958  Finding nothing else, not even gold, the Super...    HPL"
      ],
      "text/html": [
       "<div>\n",
       "<style scoped>\n",
       "    .dataframe tbody tr th:only-of-type {\n",
       "        vertical-align: middle;\n",
       "    }\n",
       "\n",
       "    .dataframe tbody tr th {\n",
       "        vertical-align: top;\n",
       "    }\n",
       "\n",
       "    .dataframe thead th {\n",
       "        text-align: right;\n",
       "    }\n",
       "</style>\n",
       "<table border=\"1\" class=\"dataframe\">\n",
       "  <thead>\n",
       "    <tr style=\"text-align: right;\">\n",
       "      <th></th>\n",
       "      <th>id</th>\n",
       "      <th>text</th>\n",
       "      <th>author</th>\n",
       "    </tr>\n",
       "  </thead>\n",
       "  <tbody>\n",
       "    <tr>\n",
       "      <th>0</th>\n",
       "      <td>id26305</td>\n",
       "      <td>This process, however, afforded me no means of...</td>\n",
       "      <td>EAP</td>\n",
       "    </tr>\n",
       "    <tr>\n",
       "      <th>1</th>\n",
       "      <td>id17569</td>\n",
       "      <td>It never once occurred to me that the fumbling...</td>\n",
       "      <td>HPL</td>\n",
       "    </tr>\n",
       "    <tr>\n",
       "      <th>2</th>\n",
       "      <td>id11008</td>\n",
       "      <td>In his left hand was a gold snuff box, from wh...</td>\n",
       "      <td>EAP</td>\n",
       "    </tr>\n",
       "    <tr>\n",
       "      <th>3</th>\n",
       "      <td>id27763</td>\n",
       "      <td>How lovely is spring As we looked from Windsor...</td>\n",
       "      <td>MWS</td>\n",
       "    </tr>\n",
       "    <tr>\n",
       "      <th>4</th>\n",
       "      <td>id12958</td>\n",
       "      <td>Finding nothing else, not even gold, the Super...</td>\n",
       "      <td>HPL</td>\n",
       "    </tr>\n",
       "  </tbody>\n",
       "</table>\n",
       "</div>"
      ]
     },
     "execution_count": 4,
     "metadata": {},
     "output_type": "execute_result"
    }
   ],
   "execution_count": 4
  },
  {
   "metadata": {
    "ExecuteTime": {
     "end_time": "2024-11-17T09:55:08.102165Z",
     "start_time": "2024-11-17T09:55:08.095133Z"
    }
   },
   "cell_type": "code",
   "source": "test_df.head()",
   "id": "79271ecf224aaff5",
   "outputs": [
    {
     "data": {
      "text/plain": [
       "        id                                               text\n",
       "0  id02310  Still, as I urged our leaving Ireland with suc...\n",
       "1  id24541  If a fire wanted fanning, it could readily be ...\n",
       "2  id00134  And when they had broken down the frail door t...\n",
       "3  id27757  While I was thinking how I should possibly man...\n",
       "4  id04081  I am not sure to what limit his knowledge may ..."
      ],
      "text/html": [
       "<div>\n",
       "<style scoped>\n",
       "    .dataframe tbody tr th:only-of-type {\n",
       "        vertical-align: middle;\n",
       "    }\n",
       "\n",
       "    .dataframe tbody tr th {\n",
       "        vertical-align: top;\n",
       "    }\n",
       "\n",
       "    .dataframe thead th {\n",
       "        text-align: right;\n",
       "    }\n",
       "</style>\n",
       "<table border=\"1\" class=\"dataframe\">\n",
       "  <thead>\n",
       "    <tr style=\"text-align: right;\">\n",
       "      <th></th>\n",
       "      <th>id</th>\n",
       "      <th>text</th>\n",
       "    </tr>\n",
       "  </thead>\n",
       "  <tbody>\n",
       "    <tr>\n",
       "      <th>0</th>\n",
       "      <td>id02310</td>\n",
       "      <td>Still, as I urged our leaving Ireland with suc...</td>\n",
       "    </tr>\n",
       "    <tr>\n",
       "      <th>1</th>\n",
       "      <td>id24541</td>\n",
       "      <td>If a fire wanted fanning, it could readily be ...</td>\n",
       "    </tr>\n",
       "    <tr>\n",
       "      <th>2</th>\n",
       "      <td>id00134</td>\n",
       "      <td>And when they had broken down the frail door t...</td>\n",
       "    </tr>\n",
       "    <tr>\n",
       "      <th>3</th>\n",
       "      <td>id27757</td>\n",
       "      <td>While I was thinking how I should possibly man...</td>\n",
       "    </tr>\n",
       "    <tr>\n",
       "      <th>4</th>\n",
       "      <td>id04081</td>\n",
       "      <td>I am not sure to what limit his knowledge may ...</td>\n",
       "    </tr>\n",
       "  </tbody>\n",
       "</table>\n",
       "</div>"
      ]
     },
     "execution_count": 5,
     "metadata": {},
     "output_type": "execute_result"
    }
   ],
   "execution_count": 5
  },
  {
   "metadata": {},
   "cell_type": "markdown",
   "source": "## 2. EDA",
   "id": "c94020d32b7f7c81"
  },
  {
   "metadata": {},
   "cell_type": "markdown",
   "source": "### 2.1. Missing Values",
   "id": "eaebb596597ad420"
  },
  {
   "metadata": {
    "ExecuteTime": {
     "end_time": "2024-11-17T09:59:08.543390Z",
     "start_time": "2024-11-17T09:59:08.519549Z"
    }
   },
   "cell_type": "code",
   "source": [
    "missing_cols = [\"id\", \"text\"]\n",
    "\n",
    "train_df[missing_cols].isnull().sum()"
   ],
   "id": "eac2e564de214e35",
   "outputs": [
    {
     "data": {
      "text/plain": [
       "id      0\n",
       "text    0\n",
       "dtype: int64"
      ]
     },
     "execution_count": 13,
     "metadata": {},
     "output_type": "execute_result"
    }
   ],
   "execution_count": 13
  },
  {
   "metadata": {},
   "cell_type": "markdown",
   "source": "### 2.2. Class Distribution",
   "id": "9e0ea155b7826e3a"
  },
  {
   "metadata": {
    "ExecuteTime": {
     "end_time": "2024-11-17T09:55:08.416331Z",
     "start_time": "2024-11-17T09:55:08.411762Z"
    }
   },
   "cell_type": "code",
   "source": [
    "# EAP: Edgar Allan Poe, HPL: HP Lovecraft; MWS: Mary Wollstonecraft Shelley)\n",
    "train_df['author'].unique()"
   ],
   "id": "216ef1158730e91d",
   "outputs": [
    {
     "data": {
      "text/plain": [
       "array(['EAP', 'HPL', 'MWS'], dtype=object)"
      ]
     },
     "execution_count": 7,
     "metadata": {},
     "output_type": "execute_result"
    }
   ],
   "execution_count": 7
  },
  {
   "metadata": {
    "ExecuteTime": {
     "end_time": "2024-11-17T09:56:40.894403Z",
     "start_time": "2024-11-17T09:56:40.754880Z"
    }
   },
   "cell_type": "code",
   "outputs": [
    {
     "data": {
      "text/plain": [
       "<Axes: ylabel='author'>"
      ]
     },
     "execution_count": 12,
     "metadata": {},
     "output_type": "execute_result"
    },
    {
     "data": {
      "text/plain": [
       "<Figure size 640x480 with 1 Axes>"
      ],
      "image/png": "[encoded data removed]"
     },
     "metadata": {},
     "output_type": "display_data"
    }
   ],
   "execution_count": 12,
   "source": "train_df.groupby('author').count().plot(kind='barh')",
   "id": "fd60acb822dc7d"
  },
  {
   "metadata": {
    "ExecuteTime": {
     "end_time": "2024-11-17T10:02:18.467851Z",
     "start_time": "2024-11-17T10:02:18.444454Z"
    }
   },
   "cell_type": "code",
   "source": "print(f\"Number of unique values in `text` (training): {train_df['text'].nunique()}\")",
   "id": "b84bb4b3403ac5b9",
   "outputs": [
    {
     "name": "stdout",
     "output_type": "stream",
     "text": [
      "Number of unique values in `text` (training): 19579\n"
     ]
    }
   ],
   "execution_count": 18
  },
  {
   "metadata": {},
   "cell_type": "markdown",
   "source": "### Words Frequency",
   "id": "58923e36450ca895"
  },
  {
   "metadata": {
    "ExecuteTime": {
     "end_time": "2024-11-17T09:55:11.527119Z",
     "start_time": "2024-11-17T09:55:08.576311Z"
    }
   },
   "cell_type": "code",
   "source": [
    "word_freq_by_author = nltk.probability.ConditionalFreqDist()\n",
    "\n",
    "for name, group in train_df.groupby(\"author\"):\n",
    "    author_sentences = group['text'].str.cat(sep = ' ').lower()\n",
    "    \n",
    "    author_tokens = nltk.word_tokenize(author_sentences)\n",
    "    \n",
    "    frequency = nltk.FreqDist(author_tokens)\n",
    "    \n",
    "    word_freq_by_author[name] = frequency\n"
   ],
   "id": "839a818d42bcaa7e",
   "outputs": [],
   "execution_count": 8
  },
  {
   "metadata": {
    "ExecuteTime": {
     "end_time": "2024-11-17T09:55:11.555867Z",
     "start_time": "2024-11-17T09:55:11.549317Z"
    }
   },
   "cell_type": "code",
   "source": "word_freq_by_author.keys()",
   "id": "4c6413461dcb2af0",
   "outputs": [
    {
     "data": {
      "text/plain": [
       "dict_keys(['EAP', 'HPL', 'MWS'])"
      ]
     },
     "execution_count": 9,
     "metadata": {},
     "output_type": "execute_result"
    }
   ],
   "execution_count": 9
  },
  {
   "metadata": {},
   "cell_type": "markdown",
   "source": "As we've observed earlier, the author classes are not balanced. So we should use [StratifiedKFold](https://scikit-learn.org/dev//modules/generated/sklearn.model_selection.StratifiedKFold.html) that helps to generate test sets such that \"all contain the same distribution of classes, or as close as possible\"",
   "id": "3db628df9a1da445"
  },
  {
   "metadata": {
    "ExecuteTime": {
     "end_time": "2024-11-17T10:13:10.279824Z",
     "start_time": "2024-11-17T10:13:10.271268Z"
    }
   },
   "cell_type": "code",
   "source": [
    "def test_pipeline(df, nlp_pipeline, pipeline_name=''):\n",
    "    y = df[Y_COLUMN].copy()\n",
    "    x = pd.Series(df[TEXT_COLUMN])\n",
    "    \n",
    "    # If you've done EDA, you may have noticed that the author classes aren't quite balanced.\n",
    "    # We'll use stratified splits just to be on the safe side.\n",
    "    skf = StratifiedKFold(n_splits=5, random_state=None, shuffle=False)\n",
    "    \n",
    "    losses = []\n",
    "    for train_index, test_index in skf.split(x, y):\n",
    "        x_train, x_test = x[train_index], x[test_index]\n",
    "        y_train, y_test = y[train_index], y[test_index]\n",
    "        nlp_pipeline.fit(x_train, y_train)\n",
    "        losses.append(metrics.log_loss(y_test, nlp_pipeline.predict_proba(x_test)))\n",
    "        \n",
    "    print(f'{pipeline_name} kfolds log losses: {str([str(round(x, 3)) for x in sorted(losses)])}')\n",
    "    print(f'{pipeline_name} mean log loss: {round(np.mean(losses), 3)}')"
   ],
   "id": "9939f22523c17ebe",
   "outputs": [],
   "execution_count": 30
  },
  {
   "metadata": {
    "ExecuteTime": {
     "end_time": "2024-11-17T10:05:54.181352Z",
     "start_time": "2024-11-17T10:05:54.168744Z"
    }
   },
   "cell_type": "code",
   "source": "train_df = train_df[[TEXT_COLUMN, Y_COLUMN]]",
   "id": "e40ca60668ed9c8d",
   "outputs": [],
   "execution_count": 20
  },
  {
   "metadata": {
    "ExecuteTime": {
     "end_time": "2024-11-17T10:13:14.093280Z",
     "start_time": "2024-11-17T10:13:12.111517Z"
    }
   },
   "cell_type": "code",
   "source": [
    "unigram_pipe = Pipeline(\n",
    "    # 1. Convert a collection of text documents to a matrix of token counts.\n",
    "    # 2. Naive Bayes classifier for multinomial models.\n",
    "    steps=[('cv', CountVectorizer()),('mnb', MultinomialNB())])\n",
    "\n",
    "test_pipeline(train_df, unigram_pipe, pipeline_name=\"Unigrams only\")"
   ],
   "id": "3a64454943282021",
   "outputs": [
    {
     "name": "stdout",
     "output_type": "stream",
     "text": [
      "Unigrams only kfolds log losses: ['0.455', '0.46', '0.47', '0.473', '0.474']\n",
      "Unigrams only mean log loss: 0.466\n"
     ]
    }
   ],
   "execution_count": 31
  },
  {
   "metadata": {
    "ExecuteTime": {
     "end_time": "2024-11-17T10:23:55.813510Z",
     "start_time": "2024-11-17T10:23:55.795515Z"
    }
   },
   "cell_type": "code",
   "source": [
    "class UnigramPredictions(TransformerMixin):\n",
    "    def __init__(self):\n",
    "        self.unigram_mnb = Pipeline(steps=[('cv', CountVectorizer()), ('mnb', MultinomialNB())])\n",
    "        \n",
    "    def fit(self, x, y=None):\n",
    "        self.unigram_mnb.fit(x, y)\n",
    "        return self\n",
    "    \n",
    "    def add_unigram_predictions(self, text_series):\n",
    "        df = pd.DataFrame(text_series.reset_index(drop=True))\n",
    "        unigram_predictions = pd.DataFrame(\n",
    "            self.unigram_mnb.predict_proba(text_series),\n",
    "            columns=[\"naive_bayes_pred_\" + x for x in self.unigram_mnb.classes_]\n",
    "        )\n",
    "        del unigram_predictions[unigram_predictions.columns[0]]\n",
    "        df = df.merge(unigram_predictions, left_index=True, right_index=True)\n",
    "        return df\n",
    "    \n",
    "    def transform(self, text_series):\n",
    "        return self.add_unigram_predictions(text_series)"
   ],
   "id": "dbd6f5023b2a0aec",
   "outputs": [],
   "execution_count": 32
  },
  {
   "metadata": {
    "ExecuteTime": {
     "end_time": "2024-11-17T10:27:57.277583Z",
     "start_time": "2024-11-17T10:27:56.816949Z"
    }
   },
   "cell_type": "code",
   "source": [
    "# ! python -m spacy download en_core_web_sm\n",
    "\n",
    "NLP = spacy.load('en_core_web_sm', disable=['parser', 'ner'])"
   ],
   "id": "71611c36db54d2ca",
   "outputs": [],
   "execution_count": 37
  },
  {
   "metadata": {
    "ExecuteTime": {
     "end_time": "2024-11-17T10:35:55.121267Z",
     "start_time": "2024-11-17T10:35:55.110069Z"
    }
   },
   "cell_type": "code",
   "source": [
    "class PartOfSpeechFeatures(TransformerMixin):\n",
    "    def __init__(self):\n",
    "        self.NLP = NLP\n",
    "        self.num_cores = cpu_count()\n",
    "        \n",
    "    def part_of_speechiness(self, pos_counts, part_of_speech):\n",
    "        if eval(part_of_speech) in pos_counts:\n",
    "            return pos_counts[eval(part_of_speech).numerator]\n",
    "        return 0\n",
    "    \n",
    "    def add_pos_features(self, df):\n",
    "        text_series = df[TEXT_COLUMN]\n",
    "        df['doc'] = [i for i in self.NLP.pipe(text_series.values, n_process=self.num_cores)]\n",
    "        df['pos_counts'] = df['doc'].apply(lambda x: x.count_by(attrs.POS))\n",
    "        df['sentence_length'] = df['doc'].str.len()\n",
    "        \n",
    "        for part_of_speech in ['NOUN', 'VERB', 'ADJ', 'ADV']:\n",
    "            df[f'{part_of_speech.lower()}iness'] = df['pos_counts'].apply(\n",
    "                lambda x: self.part_of_speechiness(x, part_of_speech))\n",
    "            df[f'{part_of_speech.lower()}iness'] /= df['sentence_length']\n",
    "        \n",
    "        df['avg_word_length'] = (df['doc'].apply(\n",
    "            lambda x: sum([len(word) for word in x])) / df['sentence_length'])\n",
    "        \n",
    "        return df\n",
    "    \n",
    "    def fit(self, x, y=None):\n",
    "        return self\n",
    "    \n",
    "    def transform(self, df):\n",
    "        return self.add_pos_features(df.copy())"
   ],
   "id": "79220d723a10bde5",
   "outputs": [],
   "execution_count": 43
  },
  {
   "metadata": {
    "ExecuteTime": {
     "end_time": "2024-11-17T10:35:57.609524Z",
     "start_time": "2024-11-17T10:35:57.604419Z"
    }
   },
   "cell_type": "code",
   "source": [
    "class DropStringColumns(TransformerMixin):\n",
    "    # You may have noticed something odd about this class: there's no __init__!\n",
    "    # It's actually inherited from TransformerMixin, so it doesn't need to be declared again.\n",
    "    def fit(self, x, y=None):\n",
    "        return self\n",
    "\n",
    "    def transform(self, df):\n",
    "        for col, dtype in zip(df.columns, df.dtypes):\n",
    "            if dtype == object:\n",
    "                del df[col]\n",
    "        return df"
   ],
   "id": "5efb3da8f1cfc4f7",
   "outputs": [],
   "execution_count": 44
  },
  {
   "metadata": {
    "ExecuteTime": {
     "end_time": "2024-11-17T10:39:25.521933Z",
     "start_time": "2024-11-17T10:35:57.995446Z"
    }
   },
   "cell_type": "code",
   "source": [
    "logit_all_features_pipe = Pipeline([\n",
    "        ('uni', UnigramPredictions()),\n",
    "        ('nlp', PartOfSpeechFeatures()),\n",
    "        ('clean', DropStringColumns()), \n",
    "        ('clf', LogisticRegression())])\n",
    "test_pipeline(train_df, logit_all_features_pipe)"
   ],
   "id": "bfb20465aba5b370",
   "outputs": [
    {
     "name": "stderr",
     "output_type": "stream",
     "text": [
      "/Users/ellkrauze/projects/ml-playground/.venv/lib/python3.10/site-packages/sklearn/linear_model/_logistic.py:469: ConvergenceWarning: lbfgs failed to converge (status=1):\n",
      "STOP: TOTAL NO. of ITERATIONS REACHED LIMIT.\n",
      "\n",
      "Increase the number of iterations (max_iter) or scale the data as shown in:\n",
      "    https://scikit-learn.org/stable/modules/preprocessing.html\n",
      "Please also refer to the documentation for alternative solver options:\n",
      "    https://scikit-learn.org/stable/modules/linear_model.html#logistic-regression\n",
      "  n_iter_i = _check_optimize_result(\n",
      "/Users/ellkrauze/projects/ml-playground/.venv/lib/python3.10/site-packages/sklearn/linear_model/_logistic.py:469: ConvergenceWarning: lbfgs failed to converge (status=1):\n",
      "STOP: TOTAL NO. of ITERATIONS REACHED LIMIT.\n",
      "\n",
      "Increase the number of iterations (max_iter) or scale the data as shown in:\n",
      "    https://scikit-learn.org/stable/modules/preprocessing.html\n",
      "Please also refer to the documentation for alternative solver options:\n",
      "    https://scikit-learn.org/stable/modules/linear_model.html#logistic-regression\n",
      "  n_iter_i = _check_optimize_result(\n",
      "/Users/ellkrauze/projects/ml-playground/.venv/lib/python3.10/site-packages/sklearn/linear_model/_logistic.py:469: ConvergenceWarning: lbfgs failed to converge (status=1):\n",
      "STOP: TOTAL NO. of ITERATIONS REACHED LIMIT.\n",
      "\n",
      "Increase the number of iterations (max_iter) or scale the data as shown in:\n",
      "    https://scikit-learn.org/stable/modules/preprocessing.html\n",
      "Please also refer to the documentation for alternative solver options:\n",
      "    https://scikit-learn.org/stable/modules/linear_model.html#logistic-regression\n",
      "  n_iter_i = _check_optimize_result(\n",
      "/Users/ellkrauze/projects/ml-playground/.venv/lib/python3.10/site-packages/sklearn/linear_model/_logistic.py:469: ConvergenceWarning: lbfgs failed to converge (status=1):\n",
      "STOP: TOTAL NO. of ITERATIONS REACHED LIMIT.\n",
      "\n",
      "Increase the number of iterations (max_iter) or scale the data as shown in:\n",
      "    https://scikit-learn.org/stable/modules/preprocessing.html\n",
      "Please also refer to the documentation for alternative solver options:\n",
      "    https://scikit-learn.org/stable/modules/linear_model.html#logistic-regression\n",
      "  n_iter_i = _check_optimize_result(\n",
      "/Users/ellkrauze/projects/ml-playground/.venv/lib/python3.10/site-packages/sklearn/linear_model/_logistic.py:469: ConvergenceWarning: lbfgs failed to converge (status=1):\n",
      "STOP: TOTAL NO. of ITERATIONS REACHED LIMIT.\n",
      "\n",
      "Increase the number of iterations (max_iter) or scale the data as shown in:\n",
      "    https://scikit-learn.org/stable/modules/preprocessing.html\n",
      "Please also refer to the documentation for alternative solver options:\n",
      "    https://scikit-learn.org/stable/modules/linear_model.html#logistic-regression\n",
      "  n_iter_i = _check_optimize_result(\n"
     ]
    },
    {
     "name": "stdout",
     "output_type": "stream",
     "text": [
      " kfolds log losses: ['0.461', '0.464', '0.466', '0.467', '0.473']\n",
      " mean log loss: 0.466\n"
     ]
    }
   ],
   "execution_count": 45
  },
  {
   "metadata": {
    "ExecuteTime": {
     "end_time": "2024-11-17T10:39:36.488730Z",
     "start_time": "2024-11-17T10:39:36.480908Z"
    }
   },
   "cell_type": "code",
   "source": [
    "def generate_submission_df(trained_prediction_pipeline, df, output_file: str=\"submission.csv\"):\n",
    "    predictions = pd.DataFrame(\n",
    "        trained_prediction_pipeline.predict_proba(df.text),\n",
    "        columns=trained_prediction_pipeline.classes_)\n",
    "    predictions['id'] = df['id']\n",
    "    predictions.to_csv(output_file, index=False)\n",
    "    return predictions"
   ],
   "id": "f26e02f8b7508de7",
   "outputs": [],
   "execution_count": 46
  },
  {
   "metadata": {
    "ExecuteTime": {
     "end_time": "2024-11-17T10:40:35.715280Z",
     "start_time": "2024-11-17T10:40:14.273577Z"
    }
   },
   "cell_type": "code",
   "source": "generate_submission_df(logit_all_features_pipe, test_df)",
   "id": "e183cde45de96b27",
   "outputs": [
    {
     "data": {
      "text/plain": [
       "           EAP       HPL       MWS       id\n",
       "0     0.028442  0.017014  0.954544  id02310\n",
       "1     0.970564  0.016825  0.012611  id24541\n",
       "2     0.012810  0.978984  0.008206  id00134\n",
       "3     0.055290  0.927617  0.017094  id27757\n",
       "4     0.964880  0.018784  0.016337  id04081\n",
       "...        ...       ...       ...      ...\n",
       "8387  0.915631  0.028116  0.056253  id11749\n",
       "8388  0.036512  0.019796  0.943692  id10526\n",
       "8389  0.971325  0.017546  0.011129  id13477\n",
       "8390  0.028238  0.017548  0.954214  id13761\n",
       "8391  0.010593  0.981910  0.007496  id04282\n",
       "\n",
       "[8392 rows x 4 columns]"
      ],
      "text/html": [
       "<div>\n",
       "<style scoped>\n",
       "    .dataframe tbody tr th:only-of-type {\n",
       "        vertical-align: middle;\n",
       "    }\n",
       "\n",
       "    .dataframe tbody tr th {\n",
       "        vertical-align: top;\n",
       "    }\n",
       "\n",
       "    .dataframe thead th {\n",
       "        text-align: right;\n",
       "    }\n",
       "</style>\n",
       "<table border=\"1\" class=\"dataframe\">\n",
       "  <thead>\n",
       "    <tr style=\"text-align: right;\">\n",
       "      <th></th>\n",
       "      <th>EAP</th>\n",
       "      <th>HPL</th>\n",
       "      <th>MWS</th>\n",
       "      <th>id</th>\n",
       "    </tr>\n",
       "  </thead>\n",
       "  <tbody>\n",
       "    <tr>\n",
       "      <th>0</th>\n",
       "      <td>0.028442</td>\n",
       "      <td>0.017014</td>\n",
       "      <td>0.954544</td>\n",
       "      <td>id02310</td>\n",
       "    </tr>\n",
       "    <tr>\n",
       "      <th>1</th>\n",
       "      <td>0.970564</td>\n",
       "      <td>0.016825</td>\n",
       "      <td>0.012611</td>\n",
       "      <td>id24541</td>\n",
       "    </tr>\n",
       "    <tr>\n",
       "      <th>2</th>\n",
       "      <td>0.012810</td>\n",
       "      <td>0.978984</td>\n",
       "      <td>0.008206</td>\n",
       "      <td>id00134</td>\n",
       "    </tr>\n",
       "    <tr>\n",
       "      <th>3</th>\n",
       "      <td>0.055290</td>\n",
       "      <td>0.927617</td>\n",
       "      <td>0.017094</td>\n",
       "      <td>id27757</td>\n",
       "    </tr>\n",
       "    <tr>\n",
       "      <th>4</th>\n",
       "      <td>0.964880</td>\n",
       "      <td>0.018784</td>\n",
       "      <td>0.016337</td>\n",
       "      <td>id04081</td>\n",
       "    </tr>\n",
       "    <tr>\n",
       "      <th>...</th>\n",
       "      <td>...</td>\n",
       "      <td>...</td>\n",
       "      <td>...</td>\n",
       "      <td>...</td>\n",
       "    </tr>\n",
       "    <tr>\n",
       "      <th>8387</th>\n",
       "      <td>0.915631</td>\n",
       "      <td>0.028116</td>\n",
       "      <td>0.056253</td>\n",
       "      <td>id11749</td>\n",
       "    </tr>\n",
       "    <tr>\n",
       "      <th>8388</th>\n",
       "      <td>0.036512</td>\n",
       "      <td>0.019796</td>\n",
       "      <td>0.943692</td>\n",
       "      <td>id10526</td>\n",
       "    </tr>\n",
       "    <tr>\n",
       "      <th>8389</th>\n",
       "      <td>0.971325</td>\n",
       "      <td>0.017546</td>\n",
       "      <td>0.011129</td>\n",
       "      <td>id13477</td>\n",
       "    </tr>\n",
       "    <tr>\n",
       "      <th>8390</th>\n",
       "      <td>0.028238</td>\n",
       "      <td>0.017548</td>\n",
       "      <td>0.954214</td>\n",
       "      <td>id13761</td>\n",
       "    </tr>\n",
       "    <tr>\n",
       "      <th>8391</th>\n",
       "      <td>0.010593</td>\n",
       "      <td>0.981910</td>\n",
       "      <td>0.007496</td>\n",
       "      <td>id04282</td>\n",
       "    </tr>\n",
       "  </tbody>\n",
       "</table>\n",
       "<p>8392 rows × 4 columns</p>\n",
       "</div>"
      ]
     },
     "execution_count": 47,
     "metadata": {},
     "output_type": "execute_result"
    }
   ],
   "execution_count": 47
  }
 ],
 "metadata": {
  "kernelspec": {
   "display_name": "Python 3",
   "language": "python",
   "name": "python3"
  },
  "language_info": {
   "codemirror_mode": {
    "name": "ipython",
    "version": 2
   },
   "file_extension": ".py",
   "mimetype": "text/x-python",
   "name": "python",
   "nbconvert_exporter": "python",
   "pygments_lexer": "ipython2",
   "version": "2.7.6"
  }
 },
 "nbformat": 4,
 "nbformat_minor": 5
}
